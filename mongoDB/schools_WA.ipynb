{
 "cells": [
  {
   "cell_type": "markdown",
   "id": "9d4f8890-1258-4957-868b-3c77290eba51",
   "metadata": {},
   "source": [
    "Before running any of the following code, make sure to import the dataset with `mongoimport --type json -d WASchoolsData -c schools --drop --jsonArray data.json`"
   ]
  },
  {
   "cell_type": "code",
   "execution_count": 1,
   "id": "a5eaa9ed-c7d6-458d-8815-c61edbecc8be",
   "metadata": {},
   "outputs": [],
   "source": [
    "# Module used to connect Python with MongoDB\n",
    "from pymongo import MongoClient\n",
    "from pprint import pprint"
   ]
  },
  {
   "cell_type": "code",
   "execution_count": 2,
   "id": "c6a8e55d-1a4d-4791-aefe-41577529682e",
   "metadata": {},
   "outputs": [],
   "source": [
    "# Create an instance of MongoClient\n",
    "mongo = MongoClient(port=27017)"
   ]
  },
  {
   "cell_type": "code",
   "execution_count": 3,
   "id": "be654b92-b3c2-4d6b-970b-ec1413671d0e",
   "metadata": {},
   "outputs": [
    {
     "name": "stdout",
     "output_type": "stream",
     "text": [
      "['WASchoolsData', 'admin', 'autosaurus', 'classDB', 'config', 'fruits_db', 'gardenDB', 'local', 'met', 'uk_food']\n"
     ]
    }
   ],
   "source": [
    "# confirm that our new database was created\n",
    "print(mongo.list_database_names())"
   ]
  },
  {
   "cell_type": "code",
   "execution_count": 4,
   "id": "83567f09-0191-48ef-bdd6-47c27f5eb633",
   "metadata": {},
   "outputs": [],
   "source": [
    "# assign the 'WASchoolsData' database to a variable name\n",
    "db = mongo['WASchoolsData']"
   ]
  },
  {
   "cell_type": "code",
   "execution_count": 5,
   "id": "99e4d6ca-eeae-4d2e-8bbc-445ff1352d03",
   "metadata": {},
   "outputs": [
    {
     "name": "stdout",
     "output_type": "stream",
     "text": [
      "['schools']\n"
     ]
    }
   ],
   "source": [
    "# review the collections in our new database\n",
    "print(db.list_collection_names())"
   ]
  },
  {
   "cell_type": "code",
   "execution_count": 6,
   "id": "bb1d74a5-13c3-4de6-8f84-c1b4de75de05",
   "metadata": {},
   "outputs": [
    {
     "name": "stdout",
     "output_type": "stream",
     "text": [
      "{'Address': '18 Stoneham Road, Attadale WA, 6156',\n",
      " 'Classification_Group': 'Non-Government',\n",
      " 'Code': 1008,\n",
      " 'Education_Region': 'South Metropolitan',\n",
      " 'Latitude': -32.018614,\n",
      " 'Longitude': 115.795823,\n",
      " 'Phone': '08 6330 0200',\n",
      " 'Postcode': 6156,\n",
      " 'School_Name': 'Santa Maria College',\n",
      " 'Students_KIN': None,\n",
      " 'Students_PPR': None,\n",
      " 'Students_Y01': None,\n",
      " 'Students_Y02': None,\n",
      " 'Students_Y03': None,\n",
      " 'Students_Y04': None,\n",
      " 'Students_Y05': 97.0,\n",
      " 'Students_Y06': 96.0,\n",
      " 'Students_Y07': 187.0,\n",
      " 'Students_Y08': 196.0,\n",
      " 'Students_Y09': 192.0,\n",
      " 'Students_Y10': 196.0,\n",
      " 'Students_Y11': 196.0,\n",
      " 'Students_Y12': 192.0,\n",
      " 'Suburb': 'Attadale',\n",
      " 'Total_Students': 1352.0,\n",
      " '_id': ObjectId('66867fc1e7973b4d755c0e61')}\n"
     ]
    }
   ],
   "source": [
    "# review a document in the schools collection\n",
    "pprint(db.schools.find_one())"
   ]
  },
  {
   "cell_type": "code",
   "execution_count": null,
   "id": "e8b9a781-ab1c-425b-9719-62ef3866b6e9",
   "metadata": {},
   "outputs": [],
   "source": []
  }
 ],
 "metadata": {
  "kernelspec": {
   "display_name": "Python 3 (ipykernel)",
   "language": "python",
   "name": "python3"
  },
  "language_info": {
   "codemirror_mode": {
    "name": "ipython",
    "version": 3
   },
   "file_extension": ".py",
   "mimetype": "text/x-python",
   "name": "python",
   "nbconvert_exporter": "python",
   "pygments_lexer": "ipython3",
   "version": "3.10.14"
  }
 },
 "nbformat": 4,
 "nbformat_minor": 5
}
